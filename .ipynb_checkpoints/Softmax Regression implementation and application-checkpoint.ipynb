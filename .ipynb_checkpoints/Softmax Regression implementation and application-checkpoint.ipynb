{
 "cells": [
  {
   "cell_type": "code",
   "execution_count": 152,
   "metadata": {},
   "outputs": [],
   "source": [
    "%matplotlib inline\n",
    "import numpy as np\n",
    "import matplotlib.pyplot as plt\n",
    "import seaborn as sns\n",
    "import pandas as pd\n",
    "from sklearn import datasets"
   ]
  },
  {
   "cell_type": "code",
   "execution_count": null,
   "metadata": {},
   "outputs": [],
   "source": [
    "import numpy as np\n",
    "\n",
    "class SoftmaxRegression:\n",
    "    def __init__(self, K, lr=0.01, num_iter=10000):\n",
    "        self.lr = lr\n",
    "        self.num_iter = num_iter\n",
    "        self.K = K\n",
    "\n",
    "    def __add_intercept(self, X):\n",
    "        intercept = np.ones((X.shape[0], 1))\n",
    "        return np.concatenate((intercept, X), axis=1)\n",
    "\n",
    "    def __softmax(self, z):\n",
    "        z -= np.max(z)\n",
    "        return np.exp(z) / np.sum(np.exp(z))\n",
    "\n",
    "    def __h(self, X, y):\n",
    "        return self.__softmax(X @ self.theta)\n",
    "\n",
    "    def __J(self, preds, y, m):\n",
    "        return np.sum(- np.log(preds[np.arange(m), y]))\n",
    "\n",
    "    def __T(self, y, K):\n",
    "        # one hot encoding\n",
    "        one_hot = np.zeros((len(y), K))\n",
    "        one_hot[np.arange(len(y)), y] = 1\n",
    "        return one_hot\n",
    "\n",
    "    def __compute_gradient(self, theta, X, y, m):\n",
    "        preds = self.__h(X, theta)\n",
    "        gradient = 1 / m * X.T @ (preds - self.__T(y, self.K))\n",
    "        return gradient\n",
    "\n",
    "    def fit(self, X, y):\n",
    "        hist = {'loss': [], 'acc': []}\n",
    "        m, n = X.shape\n",
    "        np.random.seed(0)\n",
    "        self.theta = np.random.random((n, self.K))\n",
    "        for i in range(self.num_iter):\n",
    "            gradient = self.__compute_gradient(self.theta, X, y, m)\n",
    "            self.theta -= self.lr * gradient\n",
    "\n",
    "            # loss\n",
    "            preds = self.__h(X, self.theta)\n",
    "            loss = self.__J(preds, y, m)\n",
    "\n",
    "            c = 0\n",
    "            for j in range(len(y)):\n",
    "                if np.argmax(self.__h(X[j], self.theta)) == y[j]:\n",
    "                    c += 1\n",
    "                acc = c / len(y)\n",
    "                hist['acc'].append(acc)\n",
    "            # print stats\n",
    "            if i % 100000 == 0: \n",
    "                st = acc * 100\n",
    "                sting = str(round(st, 2))\n",
    "                print('{:.2f} {:.2f}%', format(loss, sting))"
   ]
  },
  {
   "cell_type": "code",
   "execution_count": null,
   "metadata": {},
   "outputs": [],
   "source": [
    "import sklearn.datasets\n",
    "\n",
    "iris = sklearn.datasets.load_iris()\n",
    "X = iris.data\n",
    "y = (iris.target) * 1\n",
    "\n",
    "print(X.shape, y.shape)"
   ]
  },
  {
   "cell_type": "code",
   "execution_count": null,
   "metadata": {},
   "outputs": [],
   "source": [
    "import matplotlib.pyplot as plt\n",
    "\n",
    "plt.figure(figsize=(10, 6))\n",
    "plt.scatter(X[y == 0][:, 0], X[y == 0][:, 1], color='b', label='0')\n",
    "plt.scatter(X[y == 1][:, 0], X[y == 1][:, 1], color='r', label='1')\n",
    "plt.scatter(X[y == 2][:, 0], X[y == 2][:, 1], color='g', label='2')\n",
    "plt.legend();"
   ]
  },
  {
   "cell_type": "code",
   "execution_count": null,
   "metadata": {},
   "outputs": [],
   "source": [
    "df = pd.DataFrame(iris.data, columns=iris.feature_names)\n",
    "df.head()"
   ]
  },
  {
   "cell_type": "code",
   "execution_count": null,
   "metadata": {},
   "outputs": [],
   "source": [
    "X = df.values.astype(np.float32)\n",
    "X.shape"
   ]
  },
  {
   "cell_type": "code",
   "execution_count": null,
   "metadata": {},
   "outputs": [],
   "source": [
    "dfy = pd.DataFrame(data = iris['target'], columns = ['target'])\n",
    "print(dfy)"
   ]
  },
  {
   "cell_type": "code",
   "execution_count": null,
   "metadata": {},
   "outputs": [],
   "source": [
    "y.shape"
   ]
  },
  {
   "cell_type": "code",
   "execution_count": null,
   "metadata": {},
   "outputs": [],
   "source": [
    "X = np.hstack((np.ones((len(X), 1)), X))"
   ]
  },
  {
   "cell_type": "code",
   "execution_count": null,
   "metadata": {},
   "outputs": [],
   "source": [
    "m, n = X.shape\n",
    "K = 3\n",
    "K, m, n"
   ]
  },
  {
   "cell_type": "code",
   "execution_count": null,
   "metadata": {},
   "outputs": [],
   "source": [
    "X[:, 1:] = (X[:, 1:] - np.mean(X[:, 1:], axis=0)) / np.std(X[:, 1:], axis=0)"
   ]
  },
  {
   "cell_type": "code",
   "execution_count": null,
   "metadata": {},
   "outputs": [],
   "source": [
    "print(X[:, 1:])"
   ]
  },
  {
   "cell_type": "code",
   "execution_count": null,
   "metadata": {},
   "outputs": [],
   "source": [
    "np.random.seed(0)\n",
    "theta = np.random.random((n, K))"
   ]
  },
  {
   "cell_type": "code",
   "execution_count": null,
   "metadata": {},
   "outputs": [],
   "source": [
    "model = SoftmaxRegression(3, lr = 0.01, num_iter=300000)"
   ]
  },
  {
   "cell_type": "code",
   "execution_count": null,
   "metadata": {},
   "outputs": [],
   "source": [
    "%time model.fit(X, y)"
   ]
  },
  {
   "cell_type": "code",
   "execution_count": null,
   "metadata": {},
   "outputs": [],
   "source": []
  },
  {
   "cell_type": "code",
   "execution_count": null,
   "metadata": {},
   "outputs": [],
   "source": []
  },
  {
   "cell_type": "code",
   "execution_count": null,
   "metadata": {},
   "outputs": [],
   "source": []
  },
  {
   "cell_type": "code",
   "execution_count": null,
   "metadata": {},
   "outputs": [],
   "source": []
  }
 ],
 "metadata": {
  "kernelspec": {
   "display_name": "Python 3",
   "language": "python",
   "name": "python3"
  },
  "language_info": {
   "codemirror_mode": {
    "name": "ipython",
    "version": 3
   },
   "file_extension": ".py",
   "mimetype": "text/x-python",
   "name": "python",
   "nbconvert_exporter": "python",
   "pygments_lexer": "ipython3",
   "version": "3.8.3"
  }
 },
 "nbformat": 4,
 "nbformat_minor": 4
}
