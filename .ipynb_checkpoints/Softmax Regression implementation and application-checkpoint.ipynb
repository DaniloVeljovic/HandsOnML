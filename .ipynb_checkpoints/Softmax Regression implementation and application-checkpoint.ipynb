{
 "cells": [
  {
   "cell_type": "code",
   "execution_count": 116,
   "metadata": {},
   "outputs": [],
   "source": [
    "%matplotlib inline\n",
    "import numpy as np\n",
    "import matplotlib.pyplot as plt\n",
    "import seaborn as sns\n",
    "import pandas as pd\n",
    "from sklearn import datasets"
   ]
  },
  {
   "cell_type": "code",
   "execution_count": 117,
   "metadata": {},
   "outputs": [],
   "source": [
    "import numpy as np\n",
    "\n",
    "\n",
    "class SoftmaxRegression:\n",
    "    def __init__(self, K, lr=0.01, num_iter=10000):\n",
    "        self.lr = lr\n",
    "        self.num_iter = num_iter\n",
    "        self.K = K\n",
    "\n",
    "    def __add_intercept(self, X):\n",
    "        intercept = np.ones((X.shape[0], 1))\n",
    "        return np.concatenate((intercept, X), axis=1)\n",
    "\n",
    "    def __softmax(self, z):\n",
    "        z -= np.max(z)\n",
    "        return np.exp(z) / np.sum(np.exp(z))\n",
    "\n",
    "    def __h(self, X, y):\n",
    "        return self.__softmax(X @ self.theta)\n",
    "\n",
    "    def __J(self, preds, y, m):\n",
    "        return np.sum(- np.log(preds[np.arange(m), y]))\n",
    "\n",
    "    def __T(self, y, K):\n",
    "        # one hot encoding\n",
    "        one_hot = np.zeros((len(y), K))\n",
    "        one_hot[np.arange(len(y)), y] = 1\n",
    "        return one_hot\n",
    "\n",
    "    def __compute_gradient(self, theta, X, y, m):\n",
    "        preds = self.__h(X, theta)\n",
    "        gradient = 1 / m * X.T @ (preds - self.__T(y, self.K))\n",
    "        return gradient\n",
    "\n",
    "    def predict_prob(self, X):\n",
    "            return self.__softmax(np.dot(X, self.theta))\n",
    "\n",
    "    def predict(self, X):\n",
    "            return np.argmax(self.predict_prob(X), axis=1)\n",
    "\n",
    "    def fit(self, X, y):\n",
    "        hist = {'loss': [], 'acc': []}\n",
    "        m, n = X.shape\n",
    "        np.random.seed(0)\n",
    "        self.theta = np.random.random((n, self.K))\n",
    "        for i in range(self.num_iter):\n",
    "            gradient = self.__compute_gradient(self.theta, X, y, m)\n",
    "            self.theta -= self.lr * gradient\n",
    "\n",
    "            # loss\n",
    "            preds = self.__h(X, self.theta)\n",
    "            loss = self.__J(preds, y, m)\n",
    "\n",
    "            c = 0\n",
    "            for j in range(len(y)):\n",
    "                if np.argmax(self.__h(X[j], self.theta)) == y[j]:\n",
    "                    c += 1\n",
    "                acc = c / len(y)\n",
    "                hist['acc'].append(acc)\n",
    "            # print stats\n",
    "            if i % 5000 == 0:\n",
    "                print('{:.2f} {:.2f}%'.format(loss, acc * 100))"
   ]
  },
  {
   "cell_type": "code",
   "execution_count": 118,
   "metadata": {},
   "outputs": [
    {
     "name": "stdout",
     "output_type": "stream",
     "text": [
      "(150, 4) (150,)\n"
     ]
    }
   ],
   "source": [
    "import sklearn.datasets\n",
    "\n",
    "iris = sklearn.datasets.load_iris()\n",
    "X = iris.data\n",
    "y = (iris.target) * 1\n",
    "\n",
    "print(X.shape, y.shape)"
   ]
  },
  {
   "cell_type": "code",
   "execution_count": 119,
   "metadata": {},
   "outputs": [
    {
     "data": {
      "image/png": "[encoded data removed]",
      "text/plain": [
       "<Figure size 720x432 with 1 Axes>"
      ]
     },
     "metadata": {
      "needs_background": "light"
     },
     "output_type": "display_data"
    }
   ],
   "source": [
    "import matplotlib.pyplot as plt\n",
    "\n",
    "plt.figure(figsize=(10, 6))\n",
    "plt.scatter(X[y == 0][:, 0], X[y == 0][:, 1], color='b', label='0')\n",
    "plt.scatter(X[y == 1][:, 0], X[y == 1][:, 1], color='r', label='1')\n",
    "plt.scatter(X[y == 2][:, 0], X[y == 2][:, 1], color='g', label='2')\n",
    "plt.legend();"
   ]
  },
  {
   "cell_type": "code",
   "execution_count": 120,
   "metadata": {},
   "outputs": [
    {
     "data": {
      "text/html": [
       "<div>\n",
       "<style scoped>\n",
       "    .dataframe tbody tr th:only-of-type {\n",
       "        vertical-align: middle;\n",
       "    }\n",
       "\n",
       "    .dataframe tbody tr th {\n",
       "        vertical-align: top;\n",
       "    }\n",
       "\n",
       "    .dataframe thead th {\n",
       "        text-align: right;\n",
       "    }\n",
       "</style>\n",
       "<table border=\"1\" class=\"dataframe\">\n",
       "  <thead>\n",
       "    <tr style=\"text-align: right;\">\n",
       "      <th></th>\n",
       "      <th>sepal length (cm)</th>\n",
       "      <th>sepal width (cm)</th>\n",
       "      <th>petal length (cm)</th>\n",
       "      <th>petal width (cm)</th>\n",
       "    </tr>\n",
       "  </thead>\n",
       "  <tbody>\n",
       "    <tr>\n",
       "      <th>0</th>\n",
       "      <td>5.1</td>\n",
       "      <td>3.5</td>\n",
       "      <td>1.4</td>\n",
       "      <td>0.2</td>\n",
       "    </tr>\n",
       "    <tr>\n",
       "      <th>1</th>\n",
       "      <td>4.9</td>\n",
       "      <td>3.0</td>\n",
       "      <td>1.4</td>\n",
       "      <td>0.2</td>\n",
       "    </tr>\n",
       "    <tr>\n",
       "      <th>2</th>\n",
       "      <td>4.7</td>\n",
       "      <td>3.2</td>\n",
       "      <td>1.3</td>\n",
       "      <td>0.2</td>\n",
       "    </tr>\n",
       "    <tr>\n",
       "      <th>3</th>\n",
       "      <td>4.6</td>\n",
       "      <td>3.1</td>\n",
       "      <td>1.5</td>\n",
       "      <td>0.2</td>\n",
       "    </tr>\n",
       "    <tr>\n",
       "      <th>4</th>\n",
       "      <td>5.0</td>\n",
       "      <td>3.6</td>\n",
       "      <td>1.4</td>\n",
       "      <td>0.2</td>\n",
       "    </tr>\n",
       "  </tbody>\n",
       "</table>\n",
       "</div>"
      ],
      "text/plain": [
       "   sepal length (cm)  sepal width (cm)  petal length (cm)  petal width (cm)\n",
       "0                5.1               3.5                1.4               0.2\n",
       "1                4.9               3.0                1.4               0.2\n",
       "2                4.7               3.2                1.3               0.2\n",
       "3                4.6               3.1                1.5               0.2\n",
       "4                5.0               3.6                1.4               0.2"
      ]
     },
     "execution_count": 120,
     "metadata": {},
     "output_type": "execute_result"
    }
   ],
   "source": [
    "df = pd.DataFrame(iris.data, columns=iris.feature_names)\n",
    "df.head()"
   ]
  },
  {
   "cell_type": "code",
   "execution_count": 133,
   "metadata": {},
   "outputs": [
    {
     "name": "stdout",
     "output_type": "stream",
     "text": [
      "<class 'pandas.core.frame.DataFrame'>\n",
      "RangeIndex: 150 entries, 0 to 149\n",
      "Data columns (total 4 columns):\n",
      " #   Column             Non-Null Count  Dtype  \n",
      "---  ------             --------------  -----  \n",
      " 0   sepal length (cm)  150 non-null    float64\n",
      " 1   sepal width (cm)   150 non-null    float64\n",
      " 2   petal length (cm)  150 non-null    float64\n",
      " 3   petal width (cm)   150 non-null    float64\n",
      "dtypes: float64(4)\n",
      "memory usage: 4.8 KB\n"
     ]
    }
   ],
   "source": [
    "df.info()"
   ]
  },
  {
   "cell_type": "code",
   "execution_count": 134,
   "metadata": {},
   "outputs": [
    {
     "data": {
      "text/html": [
       "<div>\n",
       "<style scoped>\n",
       "    .dataframe tbody tr th:only-of-type {\n",
       "        vertical-align: middle;\n",
       "    }\n",
       "\n",
       "    .dataframe tbody tr th {\n",
       "        vertical-align: top;\n",
       "    }\n",
       "\n",
       "    .dataframe thead th {\n",
       "        text-align: right;\n",
       "    }\n",
       "</style>\n",
       "<table border=\"1\" class=\"dataframe\">\n",
       "  <thead>\n",
       "    <tr style=\"text-align: right;\">\n",
       "      <th></th>\n",
       "      <th>sepal length (cm)</th>\n",
       "      <th>sepal width (cm)</th>\n",
       "      <th>petal length (cm)</th>\n",
       "      <th>petal width (cm)</th>\n",
       "    </tr>\n",
       "  </thead>\n",
       "  <tbody>\n",
       "    <tr>\n",
       "      <th>count</th>\n",
       "      <td>150.000000</td>\n",
       "      <td>150.000000</td>\n",
       "      <td>150.000000</td>\n",
       "      <td>150.000000</td>\n",
       "    </tr>\n",
       "    <tr>\n",
       "      <th>mean</th>\n",
       "      <td>5.843333</td>\n",
       "      <td>3.057333</td>\n",
       "      <td>3.758000</td>\n",
       "      <td>1.199333</td>\n",
       "    </tr>\n",
       "    <tr>\n",
       "      <th>std</th>\n",
       "      <td>0.828066</td>\n",
       "      <td>0.435866</td>\n",
       "      <td>1.765298</td>\n",
       "      <td>0.762238</td>\n",
       "    </tr>\n",
       "    <tr>\n",
       "      <th>min</th>\n",
       "      <td>4.300000</td>\n",
       "      <td>2.000000</td>\n",
       "      <td>1.000000</td>\n",
       "      <td>0.100000</td>\n",
       "    </tr>\n",
       "    <tr>\n",
       "      <th>25%</th>\n",
       "      <td>5.100000</td>\n",
       "      <td>2.800000</td>\n",
       "      <td>1.600000</td>\n",
       "      <td>0.300000</td>\n",
       "    </tr>\n",
       "    <tr>\n",
       "      <th>50%</th>\n",
       "      <td>5.800000</td>\n",
       "      <td>3.000000</td>\n",
       "      <td>4.350000</td>\n",
       "      <td>1.300000</td>\n",
       "    </tr>\n",
       "    <tr>\n",
       "      <th>75%</th>\n",
       "      <td>6.400000</td>\n",
       "      <td>3.300000</td>\n",
       "      <td>5.100000</td>\n",
       "      <td>1.800000</td>\n",
       "    </tr>\n",
       "    <tr>\n",
       "      <th>max</th>\n",
       "      <td>7.900000</td>\n",
       "      <td>4.400000</td>\n",
       "      <td>6.900000</td>\n",
       "      <td>2.500000</td>\n",
       "    </tr>\n",
       "  </tbody>\n",
       "</table>\n",
       "</div>"
      ],
      "text/plain": [
       "       sepal length (cm)  sepal width (cm)  petal length (cm)  \\\n",
       "count         150.000000        150.000000         150.000000   \n",
       "mean            5.843333          3.057333           3.758000   \n",
       "std             0.828066          0.435866           1.765298   \n",
       "min             4.300000          2.000000           1.000000   \n",
       "25%             5.100000          2.800000           1.600000   \n",
       "50%             5.800000          3.000000           4.350000   \n",
       "75%             6.400000          3.300000           5.100000   \n",
       "max             7.900000          4.400000           6.900000   \n",
       "\n",
       "       petal width (cm)  \n",
       "count        150.000000  \n",
       "mean           1.199333  \n",
       "std            0.762238  \n",
       "min            0.100000  \n",
       "25%            0.300000  \n",
       "50%            1.300000  \n",
       "75%            1.800000  \n",
       "max            2.500000  "
      ]
     },
     "execution_count": 134,
     "metadata": {},
     "output_type": "execute_result"
    }
   ],
   "source": [
    "df.describe()"
   ]
  },
  {
   "cell_type": "code",
   "execution_count": 121,
   "metadata": {},
   "outputs": [
    {
     "data": {
      "text/plain": [
       "(150, 4)"
      ]
     },
     "execution_count": 121,
     "metadata": {},
     "output_type": "execute_result"
    }
   ],
   "source": [
    "X = df.values.astype(np.float32)\n",
    "X.shape"
   ]
  },
  {
   "cell_type": "code",
   "execution_count": 122,
   "metadata": {},
   "outputs": [
    {
     "name": "stdout",
     "output_type": "stream",
     "text": [
      "     target\n",
      "0         0\n",
      "1         0\n",
      "2         0\n",
      "3         0\n",
      "4         0\n",
      "..      ...\n",
      "145       2\n",
      "146       2\n",
      "147       2\n",
      "148       2\n",
      "149       2\n",
      "\n",
      "[150 rows x 1 columns]\n"
     ]
    }
   ],
   "source": [
    "dfy = pd.DataFrame(data = iris['target'], columns = ['target'])\n",
    "print(dfy)"
   ]
  },
  {
   "cell_type": "code",
   "execution_count": 123,
   "metadata": {},
   "outputs": [
    {
     "data": {
      "text/plain": [
       "(150,)"
      ]
     },
     "execution_count": 123,
     "metadata": {},
     "output_type": "execute_result"
    }
   ],
   "source": [
    "y.shape"
   ]
  },
  {
   "cell_type": "code",
   "execution_count": 124,
   "metadata": {},
   "outputs": [],
   "source": [
    "X = np.hstack((np.ones((len(X), 1)), X))"
   ]
  },
  {
   "cell_type": "code",
   "execution_count": 125,
   "metadata": {},
   "outputs": [
    {
     "data": {
      "text/plain": [
       "(3, 150, 5)"
      ]
     },
     "execution_count": 125,
     "metadata": {},
     "output_type": "execute_result"
    }
   ],
   "source": [
    "m, n = X.shape\n",
    "K = 3\n",
    "K, m, n"
   ]
  },
  {
   "cell_type": "code",
   "execution_count": 126,
   "metadata": {},
   "outputs": [],
   "source": [
    "X[:, 1:] = (X[:, 1:] - np.mean(X[:, 1:], axis=0)) / np.std(X[:, 1:], axis=0)"
   ]
  },
  {
   "cell_type": "code",
   "execution_count": 127,
   "metadata": {},
   "outputs": [
    {
     "name": "stdout",
     "output_type": "stream",
     "text": [
      "[[-9.00681295e-01  1.01900435e+00 -1.34022654e+00 -1.31544430e+00]\n",
      " [-1.14301681e+00 -1.31979486e-01 -1.34022654e+00 -1.31544430e+00]\n",
      " [-1.38535290e+00  3.28414158e-01 -1.39706398e+00 -1.31544430e+00]\n",
      " [-1.50652066e+00  9.82170618e-02 -1.28338910e+00 -1.31544430e+00]\n",
      " [-1.02184905e+00  1.24920090e+00 -1.34022654e+00 -1.31544430e+00]\n",
      " [-5.37177446e-01  1.93979164e+00 -1.16971422e+00 -1.05217992e+00]\n",
      " [-1.50652066e+00  7.88807801e-01 -1.34022654e+00 -1.18381210e+00]\n",
      " [-1.02184905e+00  7.88807801e-01 -1.28338910e+00 -1.31544430e+00]\n",
      " [-1.74885617e+00 -3.62176033e-01 -1.34022654e+00 -1.31544430e+00]\n",
      " [-1.14301681e+00  9.82170618e-02 -1.28338910e+00 -1.44707648e+00]\n",
      " [-5.37177446e-01  1.47939799e+00 -1.28338910e+00 -1.31544430e+00]\n",
      " [-1.26418457e+00  7.88807801e-01 -1.22655166e+00 -1.31544430e+00]\n",
      " [-1.26418457e+00 -1.31979486e-01 -1.34022654e+00 -1.44707648e+00]\n",
      " [-1.87002393e+00 -1.31979486e-01 -1.51073879e+00 -1.44707648e+00]\n",
      " [-5.25058393e-02  2.16998818e+00 -1.45390135e+00 -1.31544430e+00]\n",
      " [-1.73674174e-01  3.09077547e+00 -1.28338910e+00 -1.05217992e+00]\n",
      " [-5.37177446e-01  1.93979164e+00 -1.39706398e+00 -1.05217992e+00]\n",
      " [-9.00681295e-01  1.01900435e+00 -1.34022654e+00 -1.18381210e+00]\n",
      " [-1.73674174e-01  1.70959454e+00 -1.16971422e+00 -1.18381210e+00]\n",
      " [-9.00681295e-01  1.70959454e+00 -1.28338910e+00 -1.18381210e+00]\n",
      " [-5.37177446e-01  7.88807801e-01 -1.16971422e+00 -1.31544430e+00]\n",
      " [-9.00681295e-01  1.47939799e+00 -1.28338910e+00 -1.05217992e+00]\n",
      " [-1.50652066e+00  1.24920090e+00 -1.56757623e+00 -1.31544430e+00]\n",
      " [-9.00681295e-01  5.58610705e-01 -1.16971422e+00 -9.20547743e-01]\n",
      " [-1.26418457e+00  7.88807801e-01 -1.05603940e+00 -1.31544430e+00]\n",
      " [-1.02184905e+00 -1.31979486e-01 -1.22655166e+00 -1.31544430e+00]\n",
      " [-1.02184905e+00  7.88807801e-01 -1.22655166e+00 -1.05217992e+00]\n",
      " [-7.79513537e-01  1.01900435e+00 -1.28338910e+00 -1.31544430e+00]\n",
      " [-7.79513537e-01  7.88807801e-01 -1.34022654e+00 -1.31544430e+00]\n",
      " [-1.38535290e+00  3.28414158e-01 -1.22655166e+00 -1.31544430e+00]\n",
      " [-1.26418457e+00  9.82170618e-02 -1.22655166e+00 -1.31544430e+00]\n",
      " [-5.37177446e-01  7.88807801e-01 -1.28338910e+00 -1.05217992e+00]\n",
      " [-7.79513537e-01  2.40018473e+00 -1.28338910e+00 -1.44707648e+00]\n",
      " [-4.16009688e-01  2.63038128e+00 -1.34022654e+00 -1.31544430e+00]\n",
      " [-1.14301681e+00  9.82170618e-02 -1.28338910e+00 -1.31544430e+00]\n",
      " [-1.02184905e+00  3.28414158e-01 -1.45390135e+00 -1.31544430e+00]\n",
      " [-4.16009688e-01  1.01900435e+00 -1.39706398e+00 -1.31544430e+00]\n",
      " [-1.14301681e+00  1.24920090e+00 -1.34022654e+00 -1.44707648e+00]\n",
      " [-1.74885617e+00 -1.31979486e-01 -1.39706398e+00 -1.31544430e+00]\n",
      " [-9.00681295e-01  7.88807801e-01 -1.28338910e+00 -1.31544430e+00]\n",
      " [-1.02184905e+00  1.01900435e+00 -1.39706398e+00 -1.18381210e+00]\n",
      " [-1.62768841e+00 -1.74335696e+00 -1.39706398e+00 -1.18381210e+00]\n",
      " [-1.74885617e+00  3.28414158e-01 -1.39706398e+00 -1.31544430e+00]\n",
      " [-1.02184905e+00  1.01900435e+00 -1.22655166e+00 -7.88915525e-01]\n",
      " [-9.00681295e-01  1.70959454e+00 -1.05603940e+00 -1.05217992e+00]\n",
      " [-1.26418457e+00 -1.31979486e-01 -1.34022654e+00 -1.18381210e+00]\n",
      " [-9.00681295e-01  1.70959454e+00 -1.22655166e+00 -1.31544430e+00]\n",
      " [-1.50652066e+00  3.28414158e-01 -1.34022654e+00 -1.31544430e+00]\n",
      " [-6.58345203e-01  1.47939799e+00 -1.28338910e+00 -1.31544430e+00]\n",
      " [-1.02184905e+00  5.58610705e-01 -1.34022654e+00 -1.31544430e+00]\n",
      " [ 1.40150840e+00  3.28414158e-01  5.35408461e-01  2.64141900e-01]\n",
      " [ 6.74501281e-01  3.28414158e-01  4.21733716e-01  3.95774117e-01]\n",
      " [ 1.28034064e+00  9.82170618e-02  6.49083478e-01  3.95774117e-01]\n",
      " [-4.16009688e-01 -1.74335696e+00  1.37546580e-01  1.32509682e-01]\n",
      " [ 7.95669038e-01 -5.92373129e-01  4.78571088e-01  3.95774117e-01]\n",
      " [-1.73674174e-01 -5.92373129e-01  4.21733716e-01  1.32509682e-01]\n",
      " [ 5.53333524e-01  5.58610705e-01  5.35408461e-01  5.27406334e-01]\n",
      " [-1.14301681e+00 -1.51315987e+00 -2.60315437e-01 -2.62386813e-01]\n",
      " [ 9.16836795e-01 -3.62176033e-01  4.78571088e-01  1.32509682e-01]\n",
      " [-7.79513537e-01 -8.22569676e-01  8.07092073e-02  2.64141900e-01]\n",
      " [-1.02184905e+00 -2.43394715e+00 -1.46640555e-01 -2.62386813e-01]\n",
      " [ 6.86619178e-02 -1.31979486e-01  2.51221326e-01  3.95774117e-01]\n",
      " [ 1.89829675e-01 -1.97355351e+00  1.37546580e-01 -2.62386813e-01]\n",
      " [ 3.10997432e-01 -3.62176033e-01  5.35408461e-01  2.64141900e-01]\n",
      " [-2.94841931e-01 -3.62176033e-01 -8.98031824e-02  1.32509682e-01]\n",
      " [ 1.03800455e+00  9.82170618e-02  3.64896343e-01  2.64141900e-01]\n",
      " [-2.94841931e-01 -1.31979486e-01  4.21733716e-01  3.95774117e-01]\n",
      " [-5.25058393e-02 -8.22569676e-01  1.94383953e-01 -2.62386813e-01]\n",
      " [ 4.32165189e-01 -1.97355351e+00  4.21733716e-01  3.95774117e-01]\n",
      " [-2.94841931e-01 -1.28296332e+00  8.07092073e-02 -1.30754595e-01]\n",
      " [ 6.86619178e-02  3.28414158e-01  5.92246105e-01  7.90670612e-01]\n",
      " [ 3.10997432e-01 -5.92373129e-01  1.37546580e-01  1.32509682e-01]\n",
      " [ 5.53333524e-01 -1.28296332e+00  6.49083478e-01  3.95774117e-01]\n",
      " [ 3.10997432e-01 -5.92373129e-01  5.35408461e-01  8.77621933e-04]\n",
      " [ 6.74501281e-01 -3.62176033e-01  3.08058970e-01  1.32509682e-01]\n",
      " [ 9.16836795e-01 -1.31979486e-01  3.64896343e-01  2.64141900e-01]\n",
      " [ 1.15917289e+00 -5.92373129e-01  5.92246105e-01  2.64141900e-01]\n",
      " [ 1.03800455e+00 -1.31979486e-01  7.05920851e-01  6.59038552e-01]\n",
      " [ 1.89829675e-01 -3.62176033e-01  4.21733716e-01  3.95774117e-01]\n",
      " [-1.73674174e-01 -1.05276677e+00 -1.46640555e-01 -2.62386813e-01]\n",
      " [-4.16009688e-01 -1.51315987e+00  2.38716989e-02 -1.30754595e-01]\n",
      " [-4.16009688e-01 -1.51315987e+00 -3.29656740e-02 -2.62386813e-01]\n",
      " [-5.25058393e-02 -8.22569676e-01  8.07092073e-02  8.77621933e-04]\n",
      " [ 1.89829675e-01 -8.22569676e-01  7.62758224e-01  5.27406334e-01]\n",
      " [-5.37177446e-01 -1.31979486e-01  4.21733716e-01  3.95774117e-01]\n",
      " [ 1.89829675e-01  7.88807801e-01  4.21733716e-01  5.27406334e-01]\n",
      " [ 1.03800455e+00  9.82170618e-02  5.35408461e-01  3.95774117e-01]\n",
      " [ 5.53333524e-01 -1.74335696e+00  3.64896343e-01  1.32509682e-01]\n",
      " [-2.94841931e-01 -1.31979486e-01  1.94383953e-01  1.32509682e-01]\n",
      " [-4.16009688e-01 -1.28296332e+00  1.37546580e-01  1.32509682e-01]\n",
      " [-4.16009688e-01 -1.05276677e+00  3.64896343e-01  8.77621933e-04]\n",
      " [ 3.10997432e-01 -1.31979486e-01  4.78571088e-01  2.64141900e-01]\n",
      " [-5.25058393e-02 -1.05276677e+00  1.37546580e-01  8.77621933e-04]\n",
      " [-1.02184905e+00 -1.74335696e+00 -2.60315437e-01 -2.62386813e-01]\n",
      " [-2.94841931e-01 -8.22569676e-01  2.51221326e-01  1.32509682e-01]\n",
      " [-1.73674174e-01 -1.31979486e-01  2.51221326e-01  8.77621933e-04]\n",
      " [-1.73674174e-01 -3.62176033e-01  2.51221326e-01  1.32509682e-01]\n",
      " [ 4.32165189e-01 -3.62176033e-01  3.08058970e-01  1.32509682e-01]\n",
      " [-9.00681295e-01 -1.28296332e+00 -4.30827691e-01 -1.30754595e-01]\n",
      " [-1.73674174e-01 -5.92373129e-01  1.94383953e-01  1.32509682e-01]\n",
      " [ 5.53333524e-01  5.58610705e-01  1.27429512e+00  1.71209598e+00]\n",
      " [-5.25058393e-02 -8.22569676e-01  7.62758224e-01  9.22302830e-01]\n",
      " [ 1.52267616e+00 -1.31979486e-01  1.21745775e+00  1.18556711e+00]\n",
      " [ 5.53333524e-01 -3.62176033e-01  1.04694536e+00  7.90670612e-01]\n",
      " [ 7.95669038e-01 -1.31979486e-01  1.16062038e+00  1.31719948e+00]\n",
      " [ 2.12851552e+00 -1.31979486e-01  1.61531963e+00  1.18556711e+00]\n",
      " [-1.14301681e+00 -1.28296332e+00  4.21733716e-01  6.59038552e-01]\n",
      " [ 1.76501225e+00 -3.62176033e-01  1.44480751e+00  7.90670612e-01]\n",
      " [ 1.03800455e+00 -1.28296332e+00  1.16062038e+00  7.90670612e-01]\n",
      " [ 1.64384392e+00  1.24920090e+00  1.33113249e+00  1.71209598e+00]\n",
      " [ 7.95669038e-01  3.28414158e-01  7.62758224e-01  1.05393505e+00]\n",
      " [ 6.74501281e-01 -8.22569676e-01  8.76433241e-01  9.22302830e-01]\n",
      " [ 1.15917289e+00 -1.31979486e-01  9.90107986e-01  1.18556711e+00]\n",
      " [-1.73674174e-01 -1.28296332e+00  7.05920851e-01  1.05393505e+00]\n",
      " [-5.25058393e-02 -5.92373129e-01  7.62758224e-01  1.58046392e+00]\n",
      " [ 6.74501281e-01  3.28414158e-01  8.76433241e-01  1.44883154e+00]\n",
      " [ 7.95669038e-01 -1.31979486e-01  9.90107986e-01  7.90670612e-01]\n",
      " [ 2.24968328e+00  1.70959454e+00  1.67215700e+00  1.31719948e+00]\n",
      " [ 2.24968328e+00 -1.05276677e+00  1.78583202e+00  1.44883154e+00]\n",
      " [ 1.89829675e-01 -1.97355351e+00  7.05920851e-01  3.95774117e-01]\n",
      " [ 1.28034064e+00  3.28414158e-01  1.10378273e+00  1.44883154e+00]\n",
      " [-2.94841931e-01 -5.92373129e-01  6.49083478e-01  1.05393505e+00]\n",
      " [ 2.24968328e+00 -5.92373129e-01  1.67215700e+00  1.05393505e+00]\n",
      " [ 5.53333524e-01 -8.22569676e-01  6.49083478e-01  7.90670612e-01]\n",
      " [ 1.03800455e+00  5.58610705e-01  1.10378273e+00  1.18556711e+00]\n",
      " [ 1.64384392e+00  3.28414158e-01  1.27429512e+00  7.90670612e-01]\n",
      " [ 4.32165189e-01 -5.92373129e-01  5.92246105e-01  7.90670612e-01]\n",
      " [ 3.10997432e-01 -1.31979486e-01  6.49083478e-01  7.90670612e-01]\n",
      " [ 6.74501281e-01 -5.92373129e-01  1.04694536e+00  1.18556711e+00]\n",
      " [ 1.64384392e+00 -1.31979486e-01  1.16062038e+00  5.27406334e-01]\n",
      " [ 1.88618001e+00 -5.92373129e-01  1.33113249e+00  9.22302830e-01]\n",
      " [ 2.49201937e+00  1.70959454e+00  1.50164488e+00  1.05393505e+00]\n",
      " [ 6.74501281e-01 -5.92373129e-01  1.04694536e+00  1.31719948e+00]\n",
      " [ 5.53333524e-01 -5.92373129e-01  7.62758224e-01  3.95774117e-01]\n",
      " [ 3.10997432e-01 -1.05276677e+00  1.04694536e+00  2.64141900e-01]\n",
      " [ 2.24968328e+00 -1.31979486e-01  1.33113249e+00  1.44883154e+00]\n",
      " [ 5.53333524e-01  7.88807801e-01  1.04694536e+00  1.58046392e+00]\n",
      " [ 6.74501281e-01  9.82170618e-02  9.90107986e-01  7.90670612e-01]\n",
      " [ 1.89829675e-01 -1.31979486e-01  5.92246105e-01  7.90670612e-01]\n",
      " [ 1.28034064e+00  9.82170618e-02  9.33270614e-01  1.18556711e+00]\n",
      " [ 1.03800455e+00  9.82170618e-02  1.04694536e+00  1.58046392e+00]\n",
      " [ 1.28034064e+00  9.82170618e-02  7.62758224e-01  1.44883154e+00]\n",
      " [-5.25058393e-02 -8.22569676e-01  7.62758224e-01  9.22302830e-01]\n",
      " [ 1.15917289e+00  3.28414158e-01  1.21745775e+00  1.44883154e+00]\n",
      " [ 1.03800455e+00  5.58610705e-01  1.10378273e+00  1.71209598e+00]\n",
      " [ 1.03800455e+00 -1.31979486e-01  8.19595597e-01  1.44883154e+00]\n",
      " [ 5.53333524e-01 -1.28296332e+00  7.05920851e-01  9.22302830e-01]\n",
      " [ 7.95669038e-01 -1.31979486e-01  8.19595597e-01  1.05393505e+00]\n",
      " [ 4.32165189e-01  7.88807801e-01  9.33270614e-01  1.44883154e+00]\n",
      " [ 6.86619178e-02 -1.31979486e-01  7.62758224e-01  7.90670612e-01]]\n"
     ]
    }
   ],
   "source": [
    "print(X[:, 1:])"
   ]
  },
  {
   "cell_type": "code",
   "execution_count": 128,
   "metadata": {},
   "outputs": [],
   "source": [
    "np.random.seed(0)\n",
    "theta = np.random.random((n, K))"
   ]
  },
  {
   "cell_type": "code",
   "execution_count": 129,
   "metadata": {},
   "outputs": [],
   "source": [
    "model = SoftmaxRegression(3, lr = 0.01, num_iter=15000)"
   ]
  },
  {
   "cell_type": "code",
   "execution_count": 130,
   "metadata": {},
   "outputs": [
    {
     "name": "stdout",
     "output_type": "stream",
     "text": [
      "1144.13 20.67%\n",
      "8246.42 82.00%\n",
      "16429.55 81.33%\n",
      "Wall time: 51.2 s\n"
     ]
    }
   ],
   "source": [
    "%time model.fit(X, y)"
   ]
  },
  {
   "cell_type": "code",
   "execution_count": 131,
   "metadata": {},
   "outputs": [
    {
     "data": {
      "text/plain": [
       "array([0, 0, 0, 0, 0, 0, 0, 0, 0, 0, 0, 0, 0, 0, 0, 0, 0, 0, 0, 0, 0, 0,\n",
       "       0, 0, 0, 0, 0, 0, 0, 0, 0, 0, 0, 0, 0, 0, 0, 0, 0, 0, 0, 0, 0, 0,\n",
       "       0, 0, 0, 0, 0, 0, 2, 2, 2, 1, 2, 2, 2, 1, 2, 1, 1, 2, 1, 2, 1, 2,\n",
       "       2, 1, 2, 1, 2, 2, 2, 2, 2, 2, 2, 2, 2, 1, 1, 1, 1, 2, 2, 2, 2, 1,\n",
       "       1, 1, 1, 2, 1, 1, 1, 1, 1, 2, 1, 1, 2, 2, 2, 2, 2, 2, 1, 2, 2, 2,\n",
       "       2, 2, 2, 2, 2, 2, 2, 2, 2, 2, 2, 2, 2, 2, 2, 2, 2, 2, 2, 2, 2, 2,\n",
       "       2, 2, 2, 2, 2, 2, 2, 2, 2, 2, 2, 2, 2, 2, 2, 2, 2, 2], dtype=int64)"
      ]
     },
     "execution_count": 131,
     "metadata": {},
     "output_type": "execute_result"
    }
   ],
   "source": [
    "model.predict(X)"
   ]
  },
  {
   "cell_type": "code",
   "execution_count": 132,
   "metadata": {},
   "outputs": [
    {
     "data": {
      "text/plain": [
       "array([0, 0, 0, 0, 0, 0, 0, 0, 0, 0, 0, 0, 0, 0, 0, 0, 0, 0, 0, 0, 0, 0,\n",
       "       0, 0, 0, 0, 0, 0, 0, 0, 0, 0, 0, 0, 0, 0, 0, 0, 0, 0, 0, 0, 0, 0,\n",
       "       0, 0, 0, 0, 0, 0, 1, 1, 1, 1, 1, 1, 1, 1, 1, 1, 1, 1, 1, 1, 1, 1,\n",
       "       1, 1, 1, 1, 1, 1, 1, 1, 1, 1, 1, 1, 1, 1, 1, 1, 1, 1, 1, 1, 1, 1,\n",
       "       1, 1, 1, 1, 1, 1, 1, 1, 1, 1, 1, 1, 2, 2, 2, 2, 2, 2, 2, 2, 2, 2,\n",
       "       2, 2, 2, 2, 2, 2, 2, 2, 2, 2, 2, 2, 2, 2, 2, 2, 2, 2, 2, 2, 2, 2,\n",
       "       2, 2, 2, 2, 2, 2, 2, 2, 2, 2, 2, 2, 2, 2, 2, 2, 2, 2])"
      ]
     },
     "execution_count": 132,
     "metadata": {},
     "output_type": "execute_result"
    }
   ],
   "source": [
    "y"
   ]
  },
  {
   "cell_type": "code",
   "execution_count": null,
   "metadata": {},
   "outputs": [],
   "source": []
  },
  {
   "cell_type": "code",
   "execution_count": null,
   "metadata": {},
   "outputs": [],
   "source": []
  },
  {
   "cell_type": "code",
   "execution_count": null,
   "metadata": {},
   "outputs": [],
   "source": []
  },
  {
   "cell_type": "code",
   "execution_count": null,
   "metadata": {},
   "outputs": [],
   "source": []
  },
  {
   "cell_type": "code",
   "execution_count": null,
   "metadata": {},
   "outputs": [],
   "source": []
  },
  {
   "cell_type": "code",
   "execution_count": null,
   "metadata": {},
   "outputs": [],
   "source": []
  }
 ],
 "metadata": {
  "kernelspec": {
   "display_name": "Python 3",
   "language": "python",
   "name": "python3"
  },
  "language_info": {
   "codemirror_mode": {
    "name": "ipython",
    "version": 3
   },
   "file_extension": ".py",
   "mimetype": "text/x-python",
   "name": "python",
   "nbconvert_exporter": "python",
   "pygments_lexer": "ipython3",
   "version": "3.8.3"
  }
 },
 "nbformat": 4,
 "nbformat_minor": 4
}
